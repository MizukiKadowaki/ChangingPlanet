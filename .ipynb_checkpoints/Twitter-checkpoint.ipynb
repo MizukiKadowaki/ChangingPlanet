{
 "cells": [
  {
   "cell_type": "code",
   "execution_count": 3,
   "metadata": {},
   "outputs": [],
   "source": [
    "import tweepy\n",
    "import csv\n",
    "import pandas as pd\n",
    "import datetime\n",
    "####input your credentials here\n",
    "consumer_key = 'EJ2bzIVQw7jSjJ5o0Cix6CzcS'\n",
    "consumer_secret = 'd8aJEkFQLLyteH4mOjuxgtM3cKZNxPdCGivtWOUyaAvpmbPjQQ'\n",
    "access_token = '1234205131807133696-GQVmr3bBV6bsUMDRPnnP1rpMNwBpXF'\n",
    "access_token_secret = 'ynLMCC0V0y9AWJMo7md7YrWmIN63cSsYtomJJcgqrtDuA'\n",
    "\n",
    "auth = tweepy.OAuthHandler(consumer_key, consumer_secret)\n",
    "auth.set_access_token(access_token, access_token_secret)\n",
    "api = tweepy.API(auth,wait_on_rate_limit=True)\n"
   ]
  },
  {
   "cell_type": "code",
   "execution_count": 4,
   "metadata": {},
   "outputs": [],
   "source": [
    "start_date = datetime.datetime(2015, 1, 1, 00, 00, 00)\n",
    "end_date = datetime.datetime(2020, 1, 1, 00, 00, 00)\n",
    "\n",
    "# Open/Create a file to append data\n",
    "csvFile = open('week4.csv', 'a')\n",
    "#Use csv Writer\n",
    "csvWriter = csv.writer(csvFile)\n",
    "\n",
    "for tweet in tweepy.Cursor(api.search,q=\"#reusable\",count=100,\n",
    "                           lang=\"en\",\n",
    "                           since=start_date,\n",
    "                           until=end_date).items():\n",
    "    #print (tweet.created_at, tweet.text)\n",
    "    csvWriter.writerow([tweet.created_at, tweet.text.encode('utf-8')])\n",
    "\n",
    "csvFile.close()\n"
   ]
  }
 ],
 "metadata": {
  "kernelspec": {
   "display_name": "Python 3",
   "language": "python",
   "name": "python3"
  },
  "language_info": {
   "codemirror_mode": {
    "name": "ipython",
    "version": 3
   },
   "file_extension": ".py",
   "mimetype": "text/x-python",
   "name": "python",
   "nbconvert_exporter": "python",
   "pygments_lexer": "ipython3",
   "version": "3.7.4"
  }
 },
 "nbformat": 4,
 "nbformat_minor": 2
}
