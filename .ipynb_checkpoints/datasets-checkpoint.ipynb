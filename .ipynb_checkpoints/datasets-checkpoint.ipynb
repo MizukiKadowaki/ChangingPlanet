{
 "cells": [
  {
   "cell_type": "code",
   "execution_count": 18,
   "metadata": {},
   "outputs": [],
   "source": [
    "import os\n",
    "\n",
    "import pandas as pd\n",
    "import numpy as np\n",
    "import re\n",
    "import requests\n",
    "import bs4\n"
   ]
  },
  {
   "cell_type": "markdown",
   "metadata": {},
   "source": [
    "## Plastic polution in the top 20 rivers 2015 "
   ]
  },
  {
   "cell_type": "code",
   "execution_count": 13,
   "metadata": {},
   "outputs": [],
   "source": [
    "fp = os.path.join('data', 'plastic-top-20-rivers.csv')\n",
    "plastic_rivers = pd.read_csv(fp)\n"
   ]
  },
  {
   "cell_type": "markdown",
   "metadata": {},
   "source": [
    "## ALPLA Werke Alwin Lehner GMBH & Co KG 2015-2018 \n",
    "Data from sustainability report 2018\n",
    "https://sustainability-report18.alpla.com/en/about-alpla\n"
   ]
  },
  {
   "cell_type": "code",
   "execution_count": 14,
   "metadata": {},
   "outputs": [
    {
     "data": {
      "text/html": [
       "<div>\n",
       "<style scoped>\n",
       "    .dataframe tbody tr th:only-of-type {\n",
       "        vertical-align: middle;\n",
       "    }\n",
       "\n",
       "    .dataframe tbody tr th {\n",
       "        vertical-align: top;\n",
       "    }\n",
       "\n",
       "    .dataframe thead th {\n",
       "        text-align: right;\n",
       "    }\n",
       "</style>\n",
       "<table border=\"1\" class=\"dataframe\">\n",
       "  <thead>\n",
       "    <tr style=\"text-align: right;\">\n",
       "      <th></th>\n",
       "      <th>2015</th>\n",
       "      <th>2016</th>\n",
       "      <th>2017</th>\n",
       "      <th>2018</th>\n",
       "    </tr>\n",
       "  </thead>\n",
       "  <tbody>\n",
       "    <tr>\n",
       "      <td>0</td>\n",
       "      <td>3.3</td>\n",
       "      <td>3.25</td>\n",
       "      <td>3.4</td>\n",
       "      <td>3.66</td>\n",
       "    </tr>\n",
       "    <tr>\n",
       "      <td>1</td>\n",
       "      <td>16500.0</td>\n",
       "      <td>18300.00</td>\n",
       "      <td>19300.0</td>\n",
       "      <td>20800.00</td>\n",
       "    </tr>\n",
       "    <tr>\n",
       "      <td>2</td>\n",
       "      <td>159.0</td>\n",
       "      <td>172.00</td>\n",
       "      <td>176.0</td>\n",
       "      <td>178.00</td>\n",
       "    </tr>\n",
       "    <tr>\n",
       "      <td>3</td>\n",
       "      <td>73.0</td>\n",
       "      <td>69.00</td>\n",
       "      <td>72.0</td>\n",
       "      <td>72.00</td>\n",
       "    </tr>\n",
       "    <tr>\n",
       "      <td>4</td>\n",
       "      <td>42.0</td>\n",
       "      <td>43.00</td>\n",
       "      <td>45.0</td>\n",
       "      <td>46.00</td>\n",
       "    </tr>\n",
       "  </tbody>\n",
       "</table>\n",
       "</div>"
      ],
      "text/plain": [
       "      2015      2016     2017      2018\n",
       "0      3.3      3.25      3.4      3.66\n",
       "1  16500.0  18300.00  19300.0  20800.00\n",
       "2    159.0    172.00    176.0    178.00\n",
       "3     73.0     69.00     72.0     72.00\n",
       "4     42.0     43.00     45.0     46.00"
      ]
     },
     "execution_count": 14,
     "metadata": {},
     "output_type": "execute_result"
    }
   ],
   "source": [
    "fp = os.path.join('data', 'alpla_company_stats.csv')\n",
    "alpla_company_stats = pd.read_csv(fp)\n",
    "alpla_company_stats"
   ]
  },
  {
   "cell_type": "code",
   "execution_count": 22,
   "metadata": {},
   "outputs": [],
   "source": [
    "# https://sustainability-report18.alpla.com/en/environment-environmental-impacts/energy\n",
    "    \n",
    "r = requests.get(\"https://sustainability-report18.alpla.com/en/environment-environmental-impacts/greenhouse-gas-emissions\")  \n",
    "urlText = r.text\n",
    "soup = BeautifulSoup(urlText, 'html.parser')\n"
   ]
  },
  {
   "cell_type": "markdown",
   "metadata": {},
   "source": [
    "## ALPLA Energy Consumption by Region 2018\n",
    "https://sustainability-report18.alpla.com/sites/default/files/2019-07/zeichenflache_25.svg"
   ]
  },
  {
   "cell_type": "code",
   "execution_count": 24,
   "metadata": {},
   "outputs": [],
   "source": [
    "alpla_consumption_region_2018 = pd.DataFrame(columns = [\"Region\", \"Percentage\"])\n",
    "alpla_consumption_region_2018[\"Region\"] = [\"Western Europe\", \"Mexico and Central America\", \"Central & Eastern Europe\",\n",
    "                                           \"North America\", \"Africa & Middle East & Turkey\", \"South America\", \"China\", \n",
    "                                          \"South East Asia\", \"India\", \"CW of Indep. States Russia\", \"Caribbean\"]\n",
    "alpla_consumption_region_2018[\"Percentage\"] = [29.7, 16.2, 11.9, 9.1, 8.8, 8.4, 4.5, 3.2, 3.1, 3.1, 1.9]\n",
    "\n",
    "alpla_consumption_region_2018.to_csv(\"data/alpla_consumption_region_2018.to_csv\")"
   ]
  },
  {
   "cell_type": "markdown",
   "metadata": {},
   "source": [
    "## ALPLA Development of Total Energy, Material and Specific Energy Consumption\n",
    "https://sustainability-report18.alpla.com/sites/default/files/2019-07/totalenergie_en.svg"
   ]
  },
  {
   "cell_type": "code",
   "execution_count": 27,
   "metadata": {},
   "outputs": [
    {
     "data": {
      "text/html": [
       "<div>\n",
       "<style scoped>\n",
       "    .dataframe tbody tr th:only-of-type {\n",
       "        vertical-align: middle;\n",
       "    }\n",
       "\n",
       "    .dataframe tbody tr th {\n",
       "        vertical-align: top;\n",
       "    }\n",
       "\n",
       "    .dataframe thead th {\n",
       "        text-align: right;\n",
       "    }\n",
       "</style>\n",
       "<table border=\"1\" class=\"dataframe\">\n",
       "  <thead>\n",
       "    <tr style=\"text-align: right;\">\n",
       "      <th></th>\n",
       "      <th>2015</th>\n",
       "      <th>2016</th>\n",
       "      <th>2017</th>\n",
       "      <th>2018</th>\n",
       "    </tr>\n",
       "  </thead>\n",
       "  <tbody>\n",
       "    <tr>\n",
       "      <td>Total Energy Consumption</td>\n",
       "      <td>2099943</td>\n",
       "      <td>2139207</td>\n",
       "      <td>2126820</td>\n",
       "      <td>2259146</td>\n",
       "    </tr>\n",
       "    <tr>\n",
       "      <td>Total Material Consumption</td>\n",
       "      <td>1902277</td>\n",
       "      <td>2023748</td>\n",
       "      <td>2043155</td>\n",
       "      <td>2165215</td>\n",
       "    </tr>\n",
       "    <tr>\n",
       "      <td>ALPLA's global spec. energy consumption</td>\n",
       "      <td>1104</td>\n",
       "      <td>1036</td>\n",
       "      <td>1041</td>\n",
       "      <td>1043</td>\n",
       "    </tr>\n",
       "  </tbody>\n",
       "</table>\n",
       "</div>"
      ],
      "text/plain": [
       "                                            2015     2016     2017     2018\n",
       "Total Energy Consumption                 2099943  2139207  2126820  2259146\n",
       "Total Material Consumption               1902277  2023748  2043155  2165215\n",
       "ALPLA's global spec. energy consumption     1104     1036     1041     1043"
      ]
     },
     "execution_count": 27,
     "metadata": {},
     "output_type": "execute_result"
    }
   ],
   "source": [
    "alpla_consumption_year = pd.DataFrame(columns = [2015, 2016, 2017, 2018], \n",
    "                                      index = [\"Total Energy Consumption\", \n",
    "                                               \"Total Material Consumption\", \"ALPLA's global spec. energy consumption\"])\n",
    "\n",
    "alpla_consumption_year[2015] = [2099943, 1902277, 1104]\n",
    "alpla_consumption_year[2016] = [2139207, 2023748, 1036]\n",
    "alpla_consumption_year[2017] = [2126820, 2043155, 1041]\n",
    "alpla_consumption_year[2018] = [2259146, 2165215, 1043]\n",
    "alpla_consumption_year.to_csv(\"data/alpla_consumption_year.csv\")"
   ]
  },
  {
   "cell_type": "code",
   "execution_count": null,
   "metadata": {},
   "outputs": [],
   "source": []
  },
  {
   "cell_type": "markdown",
   "metadata": {},
   "source": [
    "## Comparison of Energy Consumption, Material Consumption, and Carbon Emission\n",
    "https://sustainability-report18.alpla.com/sites/default/files/2019-07/zeichenflache_27_0.svg\n"
   ]
  }
 ],
 "metadata": {
  "kernelspec": {
   "display_name": "Python 3",
   "language": "python",
   "name": "python3"
  },
  "language_info": {
   "codemirror_mode": {
    "name": "ipython",
    "version": 3
   },
   "file_extension": ".py",
   "mimetype": "text/x-python",
   "name": "python",
   "nbconvert_exporter": "python",
   "pygments_lexer": "ipython3",
   "version": "3.7.4"
  }
 },
 "nbformat": 4,
 "nbformat_minor": 2
}
