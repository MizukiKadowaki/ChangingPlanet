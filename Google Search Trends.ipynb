{
 "cells": [
  {
   "cell_type": "code",
   "execution_count": 27,
   "metadata": {},
   "outputs": [],
   "source": [
    "import matplotlib.pyplot as plt\n",
    "import numpy as np\n",
    "import os\n",
    "import pandas as pd\n",
    "import seaborn as sns\n",
    "%matplotlib inline\n",
    "from sklearn.linear_model import LinearRegression\n",
    "from sklearn.preprocessing import OneHotEncoder\n",
    "from sklearn.model_selection import train_test_split\n"
   ]
  },
  {
   "cell_type": "markdown",
   "metadata": {},
   "source": [
    "### Google Search Data - Keywords\n",
    "Eco friendly, ocean plastic, plastic pollution "
   ]
  },
  {
   "cell_type": "code",
   "execution_count": 77,
   "metadata": {},
   "outputs": [],
   "source": [
    "ggl_ecofriendly = pd.read_csv(\"./data/ggl_ecofriendly.csv\")\n",
    "ggl_oceanplastic = pd.read_csv(\"./data/ggl_oceanplastic.csv\")\n",
    "ggl_plasticpollution = pd.read_csv(\"./data/ggl_plasticpollution.csv\")\n",
    "ggl_reusable = pd.read_csv(\"./data/ggl_reusable.csv\")"
   ]
  },
  {
   "cell_type": "markdown",
   "metadata": {},
   "source": [
    "### Google Search Data - Flasks (Popular reusable waterbottles)\n",
    "Hydro Flask, Yeti, Camelbak, Contigo, S'well"
   ]
  },
  {
   "cell_type": "code",
   "execution_count": 72,
   "metadata": {},
   "outputs": [],
   "source": [
    "ggl_hydroflask = pd.read_csv(\"./data/ggl_hydroflask.csv\")\n",
    "ggl_yeti = pd.read_csv(\"./data/ggl_yeti.csv\")\n",
    "ggl_camelbak = pd.read_csv(\"./data/ggl_camelbak.csv\")\n",
    "ggl_contigo = pd.read_csv(\"./data/ggl_contigo.csv\")\n",
    "ggl_swell = pd.read_csv(\"./data/ggl_swell.csv\")"
   ]
  },
  {
   "cell_type": "markdown",
   "metadata": {},
   "source": [
    "### Google Search Data - Bottled Water (Popular Bottled Water brands)\n",
    "Aquafina, Desani, Nestlé, Poland Springs, SmartWater"
   ]
  },
  {
   "cell_type": "code",
   "execution_count": 70,
   "metadata": {},
   "outputs": [],
   "source": [
    "ggl_aquafina = pd.read_csv(\"./data/ggl_aquafina.csv\")\n",
    "ggl_dasani = pd.read_csv(\"./data/ggl_dasani.csv\")\n",
    "ggl_nestle = pd.read_csv(\"./data/ggl_nestle.csv\")\n",
    "ggl_polandspring = pd.read_csv(\"./data/ggl_polandspring.csv\")\n",
    "ggl_smartwater = pd.read_csv(\"./data/ggl_smartwater.csv\")"
   ]
  },
  {
   "cell_type": "markdown",
   "metadata": {},
   "source": [
    "### Clean Data & Merge - Keywords Search"
   ]
  },
  {
   "cell_type": "code",
   "execution_count": 78,
   "metadata": {},
   "outputs": [
    {
     "data": {
      "text/html": [
       "<div>\n",
       "<style scoped>\n",
       "    .dataframe tbody tr th:only-of-type {\n",
       "        vertical-align: middle;\n",
       "    }\n",
       "\n",
       "    .dataframe tbody tr th {\n",
       "        vertical-align: top;\n",
       "    }\n",
       "\n",
       "    .dataframe thead th {\n",
       "        text-align: right;\n",
       "    }\n",
       "</style>\n",
       "<table border=\"1\" class=\"dataframe\">\n",
       "  <thead>\n",
       "    <tr style=\"text-align: right;\">\n",
       "      <th></th>\n",
       "      <th>Eco Friendly</th>\n",
       "      <th>Ocean Plastic</th>\n",
       "      <th>Plastic Pollution</th>\n",
       "      <th>Reusable</th>\n",
       "      <th>Week</th>\n",
       "    </tr>\n",
       "  </thead>\n",
       "  <tbody>\n",
       "    <tr>\n",
       "      <td>2015-02-22</td>\n",
       "      <td>30</td>\n",
       "      <td>13</td>\n",
       "      <td>4</td>\n",
       "      <td>27</td>\n",
       "      <td>2015-02-22</td>\n",
       "    </tr>\n",
       "    <tr>\n",
       "      <td>2015-03-01</td>\n",
       "      <td>29</td>\n",
       "      <td>16</td>\n",
       "      <td>5</td>\n",
       "      <td>28</td>\n",
       "      <td>2015-03-01</td>\n",
       "    </tr>\n",
       "    <tr>\n",
       "      <td>2015-03-08</td>\n",
       "      <td>32</td>\n",
       "      <td>14</td>\n",
       "      <td>5</td>\n",
       "      <td>27</td>\n",
       "      <td>2015-03-08</td>\n",
       "    </tr>\n",
       "    <tr>\n",
       "      <td>2015-03-15</td>\n",
       "      <td>30</td>\n",
       "      <td>14</td>\n",
       "      <td>6</td>\n",
       "      <td>25</td>\n",
       "      <td>2015-03-15</td>\n",
       "    </tr>\n",
       "    <tr>\n",
       "      <td>2015-03-22</td>\n",
       "      <td>28</td>\n",
       "      <td>12</td>\n",
       "      <td>6</td>\n",
       "      <td>24</td>\n",
       "      <td>2015-03-22</td>\n",
       "    </tr>\n",
       "  </tbody>\n",
       "</table>\n",
       "</div>"
      ],
      "text/plain": [
       "            Eco Friendly  Ocean Plastic  Plastic Pollution  Reusable  \\\n",
       "2015-02-22            30             13                  4        27   \n",
       "2015-03-01            29             16                  5        28   \n",
       "2015-03-08            32             14                  5        27   \n",
       "2015-03-15            30             14                  6        25   \n",
       "2015-03-22            28             12                  6        24   \n",
       "\n",
       "                 Week  \n",
       "2015-02-22 2015-02-22  \n",
       "2015-03-01 2015-03-01  \n",
       "2015-03-08 2015-03-08  \n",
       "2015-03-15 2015-03-15  \n",
       "2015-03-22 2015-03-22  "
      ]
     },
     "execution_count": 78,
     "metadata": {},
     "output_type": "execute_result"
    }
   ],
   "source": [
    "ggl_ecofriendly = ggl_ecofriendly.drop(\"Week\")\n",
    "ggl_ecofriendly = ggl_ecofriendly.rename(columns = {\"Category: All categories\" : \"Eco Friendly\"})\n",
    "ggl_ecofriendly[\"Eco Friendly\"] = ggl_ecofriendly[\"Eco Friendly\"].astype(int)\n",
    "\n",
    "ggl_oceanplastic = ggl_oceanplastic.drop(\"Week\")\n",
    "ggl_oceanplastic = ggl_oceanplastic.rename(columns = {\"Category: All categories\" : \"Ocean Plastic\"})\n",
    "ggl_oceanplastic[\"Ocean Plastic\"] = ggl_oceanplastic[\"Ocean Plastic\"].astype(int)\n",
    "\n",
    "ggl_plasticpollution = ggl_plasticpollution.drop(\"Week\")\n",
    "ggl_plasticpollution = ggl_plasticpollution.rename(columns = {\"Category: All categories\" : \"Plastic Pollution\"})\n",
    "ggl_plasticpollution[\"Plastic Pollution\"] = ggl_plasticpollution[\"Plastic Pollution\"].astype(int)\n",
    "\n",
    "ggl_reusable = ggl_reusable.drop(\"Week\")\n",
    "ggl_reusable = ggl_reusable.rename(columns = {\"Category: All categories\" : \"Reusable\"})\n",
    "ggl_reusable[\"Reusable\"] = ggl_reusable[\"Reusable\"].astype(int)\n",
    "\n",
    "awareness_search = pd.concat([ggl_ecofriendly, ggl_oceanplastic, ggl_plasticpollution, ggl_reusable], axis=1)\n",
    "awareness_search[\"Week\"] = pd.to_datetime(awareness_search.index)\n",
    "awareness_search.head() # 261 weeks"
   ]
  },
  {
   "cell_type": "markdown",
   "metadata": {},
   "source": [
    "### Clean Data & Merge - Flasks"
   ]
  },
  {
   "cell_type": "code",
   "execution_count": 73,
   "metadata": {},
   "outputs": [
    {
     "data": {
      "text/html": [
       "<div>\n",
       "<style scoped>\n",
       "    .dataframe tbody tr th:only-of-type {\n",
       "        vertical-align: middle;\n",
       "    }\n",
       "\n",
       "    .dataframe tbody tr th {\n",
       "        vertical-align: top;\n",
       "    }\n",
       "\n",
       "    .dataframe thead th {\n",
       "        text-align: right;\n",
       "    }\n",
       "</style>\n",
       "<table border=\"1\" class=\"dataframe\">\n",
       "  <thead>\n",
       "    <tr style=\"text-align: right;\">\n",
       "      <th></th>\n",
       "      <th>Hydro Flask</th>\n",
       "      <th>Yeti</th>\n",
       "      <th>Camelbak</th>\n",
       "      <th>Contigo</th>\n",
       "      <th>Swell</th>\n",
       "      <th>Week</th>\n",
       "    </tr>\n",
       "  </thead>\n",
       "  <tbody>\n",
       "    <tr>\n",
       "      <td>2015-02-22</td>\n",
       "      <td>2</td>\n",
       "      <td>34</td>\n",
       "      <td>61</td>\n",
       "      <td>100</td>\n",
       "      <td>53</td>\n",
       "      <td>2015-02-22</td>\n",
       "    </tr>\n",
       "    <tr>\n",
       "      <td>2015-03-01</td>\n",
       "      <td>2</td>\n",
       "      <td>32</td>\n",
       "      <td>72</td>\n",
       "      <td>95</td>\n",
       "      <td>55</td>\n",
       "      <td>2015-03-01</td>\n",
       "    </tr>\n",
       "    <tr>\n",
       "      <td>2015-03-08</td>\n",
       "      <td>2</td>\n",
       "      <td>34</td>\n",
       "      <td>72</td>\n",
       "      <td>94</td>\n",
       "      <td>60</td>\n",
       "      <td>2015-03-08</td>\n",
       "    </tr>\n",
       "    <tr>\n",
       "      <td>2015-03-15</td>\n",
       "      <td>2</td>\n",
       "      <td>36</td>\n",
       "      <td>77</td>\n",
       "      <td>97</td>\n",
       "      <td>58</td>\n",
       "      <td>2015-03-15</td>\n",
       "    </tr>\n",
       "    <tr>\n",
       "      <td>2015-03-22</td>\n",
       "      <td>2</td>\n",
       "      <td>36</td>\n",
       "      <td>71</td>\n",
       "      <td>92</td>\n",
       "      <td>57</td>\n",
       "      <td>2015-03-22</td>\n",
       "    </tr>\n",
       "  </tbody>\n",
       "</table>\n",
       "</div>"
      ],
      "text/plain": [
       "            Hydro Flask  Yeti  Camelbak  Contigo  Swell       Week\n",
       "2015-02-22            2    34        61      100     53 2015-02-22\n",
       "2015-03-01            2    32        72       95     55 2015-03-01\n",
       "2015-03-08            2    34        72       94     60 2015-03-08\n",
       "2015-03-15            2    36        77       97     58 2015-03-15\n",
       "2015-03-22            2    36        71       92     57 2015-03-22"
      ]
     },
     "execution_count": 73,
     "metadata": {},
     "output_type": "execute_result"
    }
   ],
   "source": [
    "ggl_hydroflask = ggl_hydroflask.drop(\"Week\")\n",
    "ggl_hydroflask = ggl_hydroflask.rename(columns = {\"Category: All categories\" : \"Hydro Flask\"})\n",
    "ggl_hydroflask[\"Hydro Flask\"] = ggl_hydroflask[\"Hydro Flask\"].astype(int)\n",
    "\n",
    "ggl_yeti = ggl_yeti.drop(\"Week\")\n",
    "ggl_yeti = ggl_yeti.rename(columns = {\"Category: All categories\" : \"Yeti\"})\n",
    "ggl_yeti[\"Yeti\"] = ggl_yeti[\"Yeti\"].astype(int)\n",
    "\n",
    "ggl_camelbak  = ggl_camelbak.drop(\"Week\")\n",
    "ggl_camelbak  = ggl_camelbak.rename(columns = {\"Category: All categories\" : \"Camelbak\"})\n",
    "ggl_camelbak[\"Camelbak\"] = ggl_camelbak[\"Camelbak\"].astype(int)\n",
    "\n",
    "ggl_contigo = ggl_contigo.drop(\"Week\")\n",
    "ggl_contigo = ggl_contigo.rename(columns = {\"Category: All categories\" : \"Contigo\"})\n",
    "ggl_contigo[\"Contigo\"] = ggl_contigo[\"Contigo\"].astype(int)\n",
    "\n",
    "ggl_swell = ggl_swell.drop(\"Week\")\n",
    "ggl_swell = ggl_swell.rename(columns = {\"Category: All categories\" : \"Swell\"})\n",
    "ggl_swell[\"Swell\"] = ggl_swell[\"Swell\"].astype(int)\n",
    "\n",
    "water_bottle = pd.concat([ggl_hydroflask, ggl_yeti, ggl_camelbak, ggl_contigo, ggl_swell], axis=1)\n",
    "water_bottle[\"Week\"] = pd.to_datetime(water_bottle.index)\n",
    "water_bottle.head() # 261 weeks"
   ]
  },
  {
   "cell_type": "markdown",
   "metadata": {},
   "source": [
    "### Clean Data & Merge - Bottled Water"
   ]
  },
  {
   "cell_type": "code",
   "execution_count": 71,
   "metadata": {},
   "outputs": [
    {
     "data": {
      "text/html": [
       "<div>\n",
       "<style scoped>\n",
       "    .dataframe tbody tr th:only-of-type {\n",
       "        vertical-align: middle;\n",
       "    }\n",
       "\n",
       "    .dataframe tbody tr th {\n",
       "        vertical-align: top;\n",
       "    }\n",
       "\n",
       "    .dataframe thead th {\n",
       "        text-align: right;\n",
       "    }\n",
       "</style>\n",
       "<table border=\"1\" class=\"dataframe\">\n",
       "  <thead>\n",
       "    <tr style=\"text-align: right;\">\n",
       "      <th></th>\n",
       "      <th>Aquafina</th>\n",
       "      <th>Dasani</th>\n",
       "      <th>Poland Spring</th>\n",
       "      <th>SmartWater</th>\n",
       "      <th>Week</th>\n",
       "    </tr>\n",
       "  </thead>\n",
       "  <tbody>\n",
       "    <tr>\n",
       "      <td>2015-02-22</td>\n",
       "      <td>13</td>\n",
       "      <td>14</td>\n",
       "      <td>77</td>\n",
       "      <td>41</td>\n",
       "      <td>2015-02-22</td>\n",
       "    </tr>\n",
       "    <tr>\n",
       "      <td>2015-03-01</td>\n",
       "      <td>14</td>\n",
       "      <td>13</td>\n",
       "      <td>67</td>\n",
       "      <td>37</td>\n",
       "      <td>2015-03-01</td>\n",
       "    </tr>\n",
       "    <tr>\n",
       "      <td>2015-03-08</td>\n",
       "      <td>15</td>\n",
       "      <td>13</td>\n",
       "      <td>77</td>\n",
       "      <td>52</td>\n",
       "      <td>2015-03-08</td>\n",
       "    </tr>\n",
       "    <tr>\n",
       "      <td>2015-03-15</td>\n",
       "      <td>14</td>\n",
       "      <td>12</td>\n",
       "      <td>69</td>\n",
       "      <td>43</td>\n",
       "      <td>2015-03-15</td>\n",
       "    </tr>\n",
       "    <tr>\n",
       "      <td>2015-03-22</td>\n",
       "      <td>17</td>\n",
       "      <td>13</td>\n",
       "      <td>79</td>\n",
       "      <td>43</td>\n",
       "      <td>2015-03-22</td>\n",
       "    </tr>\n",
       "  </tbody>\n",
       "</table>\n",
       "</div>"
      ],
      "text/plain": [
       "            Aquafina  Dasani  Poland Spring  SmartWater       Week\n",
       "2015-02-22        13      14             77          41 2015-02-22\n",
       "2015-03-01        14      13             67          37 2015-03-01\n",
       "2015-03-08        15      13             77          52 2015-03-08\n",
       "2015-03-15        14      12             69          43 2015-03-15\n",
       "2015-03-22        17      13             79          43 2015-03-22"
      ]
     },
     "execution_count": 71,
     "metadata": {},
     "output_type": "execute_result"
    }
   ],
   "source": [
    "ggl_aquafina = ggl_aquafina.drop(\"Week\")\n",
    "ggl_aquafina = ggl_aquafina.rename(columns = {\"Category: All categories\" : \"Aquafina\"})\n",
    "ggl_aquafina[\"Aquafina\"] = ggl_aquafina[\"Aquafina\"].astype(int)\n",
    "\n",
    "ggl_dasani = ggl_dasani.drop(\"Week\")\n",
    "ggl_dasani = ggl_dasani.rename(columns = {\"Category: All categories\" : \"Dasani\"})\n",
    "ggl_dasani[\"Dasani\"] = ggl_dasani[\"Dasani\"].astype(int)\n",
    "\n",
    "ggl_polandspring = ggl_polandspring.drop(\"Week\")\n",
    "ggl_polandspring = ggl_polandspring.rename(columns = {\"Category: All categories\" : \"Poland Spring\"})\n",
    "ggl_polandspring[\"Poland Spring\"] = ggl_polandspring[\"Poland Spring\"].astype(int)\n",
    "\n",
    "ggl_smartwater = ggl_smartwater.drop(\"Week\")\n",
    "ggl_smartwater = ggl_smartwater.rename(columns = {\"Category: All categories\" : \"SmartWater\"})\n",
    "ggl_smartwater[\"SmartWater\"] = ggl_smartwater[\"SmartWater\"].astype(int)\n",
    "\n",
    "bottled_water = pd.concat([ggl_aquafina, ggl_dasani, ggl_polandspring, ggl_smartwater], axis=1)\n",
    "bottled_water[\"Week\"] = pd.to_datetime(bottled_water.index)\n",
    "bottled_water.head() # 261 weeks"
   ]
  },
  {
   "cell_type": "markdown",
   "metadata": {},
   "source": [
    "### Plot Awareness changes overtime"
   ]
  },
  {
   "cell_type": "code",
   "execution_count": 86,
   "metadata": {},
   "outputs": [
    {
     "data": {
      "text/plain": [
       "(735651.0, 737471.0)"
      ]
     },
     "execution_count": 86,
     "metadata": {},
     "output_type": "execute_result"
    },
    {
     "data": {
      "image/png": "[encoded data removed]",
      "text/plain": [
       "<Figure size 432x288 with 1 Axes>"
      ]
     },
     "metadata": {
      "needs_background": "light"
     },
     "output_type": "display_data"
    }
   ],
   "source": [
    "ax = sns.scatterplot(data= awareness_search, x=\"Week\", y='Eco Friendly')\n",
    "ax = sns.scatterplot(data= awareness_search, x=\"Week\", y='Ocean Plastic')\n",
    "ax = sns.scatterplot(data= awareness_search, x=\"Week\", y='Plastic Pollution')\n",
    "ax = sns.scatterplot(data= awareness_search, x=\"Week\", y='Reusable')\n",
    "plt.xlim(['2015-02-22 00:00:00','2020-02-16 00:00:00'])\n"
   ]
  },
  {
   "cell_type": "markdown",
   "metadata": {},
   "source": [
    "### Linear Regression Model - \"Plastic Pollution\" search"
   ]
  },
  {
   "cell_type": "code",
   "execution_count": 87,
   "metadata": {},
   "outputs": [
    {
     "name": "stderr",
     "output_type": "stream",
     "text": [
      "/Users/mizukikadowaki/opt/anaconda3/lib/python3.7/site-packages/ipykernel_launcher.py:2: SettingWithCopyWarning: \n",
      "A value is trying to be set on a copy of a slice from a DataFrame.\n",
      "Try using .loc[row_indexer,col_indexer] = value instead\n",
      "\n",
      "See the caveats in the documentation: http://pandas.pydata.org/pandas-docs/stable/user_guide/indexing.html#returning-a-view-versus-a-copy\n",
      "  \n",
      "/Users/mizukikadowaki/opt/anaconda3/lib/python3.7/site-packages/ipykernel_launcher.py:3: SettingWithCopyWarning: \n",
      "A value is trying to be set on a copy of a slice from a DataFrame.\n",
      "Try using .loc[row_indexer,col_indexer] = value instead\n",
      "\n",
      "See the caveats in the documentation: http://pandas.pydata.org/pandas-docs/stable/user_guide/indexing.html#returning-a-view-versus-a-copy\n",
      "  This is separate from the ipykernel package so we can avoid doing imports until\n"
     ]
    }
   ],
   "source": [
    "df = awareness_search[[\"Week\", \"Plastic Pollution\"]]\n",
    "df[\"Month\"] = df[\"Week\"].dt.month\n",
    "df[\"Year\"] = df[\"Week\"].dt.year\n",
    "df = df[[\"Week\", \"Month\", \"Year\", \"Plastic Pollution\"]]\n",
    "\n",
    "X = df[[\"Month\", \"Year\"]]\n",
    "y = df[\"Plastic Pollution\"]\n",
    "reg = LinearRegression().fit(X, y)"
   ]
  },
  {
   "cell_type": "code",
   "execution_count": 88,
   "metadata": {},
   "outputs": [
    {
     "data": {
      "text/plain": [
       "array([-1.45093481])"
      ]
     },
     "execution_count": 88,
     "metadata": {},
     "output_type": "execute_result"
    }
   ],
   "source": [
    "reg.predict([[2,2015]])"
   ]
  },
  {
   "cell_type": "code",
   "execution_count": null,
   "metadata": {},
   "outputs": [],
   "source": []
  },
  {
   "cell_type": "code",
   "execution_count": 89,
   "metadata": {},
   "outputs": [
    {
     "data": {
      "text/plain": [
       "OneHotEncoder(categorical_features=None, categories=None, drop=None,\n",
       "              dtype=<class 'numpy.float64'>, handle_unknown='ignore',\n",
       "              n_values=None, sparse=True)"
      ]
     },
     "execution_count": 89,
     "metadata": {},
     "output_type": "execute_result"
    }
   ],
   "source": [
    "enc = OneHotEncoder(handle_unknown='ignore')\n",
    "enc.fit(df[[\"Plastic Pollution\"]])\n"
   ]
  },
  {
   "cell_type": "code",
   "execution_count": 90,
   "metadata": {},
   "outputs": [
    {
     "data": {
      "text/plain": [
       "array([[0., 1., 0., ..., 0., 0., 0.],\n",
       "       [0., 0., 1., ..., 0., 0., 0.],\n",
       "       [0., 0., 1., ..., 0., 0., 0.],\n",
       "       ...,\n",
       "       [0., 0., 0., ..., 0., 0., 0.],\n",
       "       [0., 0., 0., ..., 0., 0., 0.],\n",
       "       [0., 0., 0., ..., 0., 0., 0.]])"
      ]
     },
     "execution_count": 90,
     "metadata": {},
     "output_type": "execute_result"
    }
   ],
   "source": [
    "enc.transform(df[[\"Plastic Pollution\"]]).toarray()"
   ]
  },
  {
   "cell_type": "markdown",
   "metadata": {},
   "source": [
    "- Input: Month, Year\n",
    "- Output: Plastic Pollution"
   ]
  },
  {
   "cell_type": "code",
   "execution_count": 91,
   "metadata": {},
   "outputs": [],
   "source": [
    "X = df[[\"Month\"]].to_numpy()\n",
    "enc = OneHotEncoder(handle_unknown='ignore')\n",
    "enc.fit(df[[\"Year\"]])\n",
    "X = np.append(X, enc.transform(df[[\"Year\"]]).toarray(), axis=1)\n",
    "\n",
    "y = df[\"Plastic Pollution\"]\n",
    "reg = LinearRegression().fit(X, y)"
   ]
  },
  {
   "cell_type": "code",
   "execution_count": 92,
   "metadata": {},
   "outputs": [],
   "source": [
    "y = np.transpose(np.array(y, ndmin=2))\n",
    "data = np.append(X,y,axis=1)"
   ]
  },
  {
   "cell_type": "code",
   "execution_count": 93,
   "metadata": {},
   "outputs": [
    {
     "name": "stdout",
     "output_type": "stream",
     "text": [
      "Train size:(208, 8)\n",
      "Validation size:(26, 8)\n",
      "Test size:(27, 8)\n"
     ]
    }
   ],
   "source": [
    "train_df, test_df = train_test_split(data, test_size=0.1)\n",
    "train_df, val_df = train_test_split(train_df, test_size=(1/9))\n",
    "print(\"Train size:{}\".format(train_df.shape))\n",
    "print(\"Validation size:{}\".format(val_df.shape))\n",
    "print(\"Test size:{}\".format(test_df.shape))"
   ]
  },
  {
   "cell_type": "code",
   "execution_count": 94,
   "metadata": {},
   "outputs": [],
   "source": [
    "reg = LinearRegression().fit(train_df[:,:-1], train_df[:,-1])"
   ]
  },
  {
   "cell_type": "code",
   "execution_count": 95,
   "metadata": {},
   "outputs": [
    {
     "data": {
      "text/plain": [
       "0.6470665215235792"
      ]
     },
     "execution_count": 95,
     "metadata": {},
     "output_type": "execute_result"
    }
   ],
   "source": [
    "reg.score(val_df[:,:-1], val_df[:,-1])"
   ]
  },
  {
   "cell_type": "markdown",
   "metadata": {},
   "source": [
    "### Bottled Water popularity "
   ]
  },
  {
   "cell_type": "code",
   "execution_count": 106,
   "metadata": {},
   "outputs": [],
   "source": [
    "def lin_reg(X, Y):\n",
    "\n",
    "    xbar = np.mean(X)\n",
    "    ybar = np.mean(Y)\n",
    "    n = len(X)\n",
    "\n",
    "    numer = sum([xi*yi for xi,yi in zip(X, Y)]) - n * xbar * ybar\n",
    "    denum = sum([xi**2 for xi in X]) - n * xbar**2\n",
    "\n",
    "    m = numer / denum\n",
    "    b = ybar - m * xbar\n",
    "\n",
    "    return m, b"
   ]
  },
  {
   "cell_type": "code",
   "execution_count": 115,
   "metadata": {},
   "outputs": [
    {
     "data": {
      "text/html": [
       "<div>\n",
       "<style scoped>\n",
       "    .dataframe tbody tr th:only-of-type {\n",
       "        vertical-align: middle;\n",
       "    }\n",
       "\n",
       "    .dataframe tbody tr th {\n",
       "        vertical-align: top;\n",
       "    }\n",
       "\n",
       "    .dataframe thead th {\n",
       "        text-align: right;\n",
       "    }\n",
       "</style>\n",
       "<table border=\"1\" class=\"dataframe\">\n",
       "  <thead>\n",
       "    <tr style=\"text-align: right;\">\n",
       "      <th></th>\n",
       "      <th>Week</th>\n",
       "      <th>Aquafina</th>\n",
       "      <th>Dasani</th>\n",
       "      <th>Poland Spring</th>\n",
       "      <th>SmartWater</th>\n",
       "      <th>Total</th>\n",
       "    </tr>\n",
       "  </thead>\n",
       "  <tbody>\n",
       "    <tr>\n",
       "      <td>0</td>\n",
       "      <td>2015-02-22</td>\n",
       "      <td>13</td>\n",
       "      <td>14</td>\n",
       "      <td>77</td>\n",
       "      <td>41</td>\n",
       "      <td>36.25</td>\n",
       "    </tr>\n",
       "    <tr>\n",
       "      <td>1</td>\n",
       "      <td>2015-03-01</td>\n",
       "      <td>14</td>\n",
       "      <td>13</td>\n",
       "      <td>67</td>\n",
       "      <td>37</td>\n",
       "      <td>32.75</td>\n",
       "    </tr>\n",
       "    <tr>\n",
       "      <td>2</td>\n",
       "      <td>2015-03-08</td>\n",
       "      <td>15</td>\n",
       "      <td>13</td>\n",
       "      <td>77</td>\n",
       "      <td>52</td>\n",
       "      <td>39.25</td>\n",
       "    </tr>\n",
       "    <tr>\n",
       "      <td>3</td>\n",
       "      <td>2015-03-15</td>\n",
       "      <td>14</td>\n",
       "      <td>12</td>\n",
       "      <td>69</td>\n",
       "      <td>43</td>\n",
       "      <td>34.50</td>\n",
       "    </tr>\n",
       "    <tr>\n",
       "      <td>4</td>\n",
       "      <td>2015-03-22</td>\n",
       "      <td>17</td>\n",
       "      <td>13</td>\n",
       "      <td>79</td>\n",
       "      <td>43</td>\n",
       "      <td>38.00</td>\n",
       "    </tr>\n",
       "  </tbody>\n",
       "</table>\n",
       "</div>"
      ],
      "text/plain": [
       "        Week  Aquafina  Dasani  Poland Spring  SmartWater  Total\n",
       "0 2015-02-22        13      14             77          41  36.25\n",
       "1 2015-03-01        14      13             67          37  32.75\n",
       "2 2015-03-08        15      13             77          52  39.25\n",
       "3 2015-03-15        14      12             69          43  34.50\n",
       "4 2015-03-22        17      13             79          43  38.00"
      ]
     },
     "execution_count": 115,
     "metadata": {},
     "output_type": "execute_result"
    }
   ],
   "source": [
    "grouped_bw = bottled_water.groupby(\"Week\").mean()\n",
    "grouped_bw = grouped_bw.reset_index()\n",
    "grouped_bw['Total'] = grouped_bw.mean(axis=1)\n",
    "grouped_bw.head()"
   ]
  },
  {
   "cell_type": "code",
   "execution_count": 145,
   "metadata": {},
   "outputs": [
    {
     "data": {
      "text/plain": [
       "[<matplotlib.lines.Line2D at 0x10ba04490>]"
      ]
     },
     "execution_count": 145,
     "metadata": {},
     "output_type": "execute_result"
    },
    {
     "data": {
      "image/png": "[encoded data removed]",
      "text/plain": [
       "<Figure size 432x288 with 1 Axes>"
      ]
     },
     "metadata": {
      "needs_background": "light"
     },
     "output_type": "display_data"
    }
   ],
   "source": [
    "ax1 = grouped_bw.plot.line(y = \"Total\")\n",
    "x = np.array(grouped_bw.index)\n",
    "# x = [float(i) for i in grouped_bw.index.tolist()]\n",
    "bw_m, bw_b = lin_reg(x, grouped_bw[\"Total\"])\n",
    "plt.plot(x, bw_m*x+bw_b, 'b', label='US')\n"
   ]
  },
  {
   "cell_type": "markdown",
   "metadata": {},
   "source": [
    "### Water Bottle Popularity "
   ]
  },
  {
   "cell_type": "code",
   "execution_count": 148,
   "metadata": {},
   "outputs": [
    {
     "data": {
      "text/html": [
       "<div>\n",
       "<style scoped>\n",
       "    .dataframe tbody tr th:only-of-type {\n",
       "        vertical-align: middle;\n",
       "    }\n",
       "\n",
       "    .dataframe tbody tr th {\n",
       "        vertical-align: top;\n",
       "    }\n",
       "\n",
       "    .dataframe thead th {\n",
       "        text-align: right;\n",
       "    }\n",
       "</style>\n",
       "<table border=\"1\" class=\"dataframe\">\n",
       "  <thead>\n",
       "    <tr style=\"text-align: right;\">\n",
       "      <th></th>\n",
       "      <th>Week</th>\n",
       "      <th>Hydro Flask</th>\n",
       "      <th>Yeti</th>\n",
       "      <th>Camelbak</th>\n",
       "      <th>Contigo</th>\n",
       "      <th>Swell</th>\n",
       "      <th>Total</th>\n",
       "    </tr>\n",
       "  </thead>\n",
       "  <tbody>\n",
       "    <tr>\n",
       "      <td>0</td>\n",
       "      <td>2015-02-22</td>\n",
       "      <td>2</td>\n",
       "      <td>34</td>\n",
       "      <td>61</td>\n",
       "      <td>100</td>\n",
       "      <td>53</td>\n",
       "      <td>50.0</td>\n",
       "    </tr>\n",
       "    <tr>\n",
       "      <td>1</td>\n",
       "      <td>2015-03-01</td>\n",
       "      <td>2</td>\n",
       "      <td>32</td>\n",
       "      <td>72</td>\n",
       "      <td>95</td>\n",
       "      <td>55</td>\n",
       "      <td>51.2</td>\n",
       "    </tr>\n",
       "    <tr>\n",
       "      <td>2</td>\n",
       "      <td>2015-03-08</td>\n",
       "      <td>2</td>\n",
       "      <td>34</td>\n",
       "      <td>72</td>\n",
       "      <td>94</td>\n",
       "      <td>60</td>\n",
       "      <td>52.4</td>\n",
       "    </tr>\n",
       "    <tr>\n",
       "      <td>3</td>\n",
       "      <td>2015-03-15</td>\n",
       "      <td>2</td>\n",
       "      <td>36</td>\n",
       "      <td>77</td>\n",
       "      <td>97</td>\n",
       "      <td>58</td>\n",
       "      <td>54.0</td>\n",
       "    </tr>\n",
       "    <tr>\n",
       "      <td>4</td>\n",
       "      <td>2015-03-22</td>\n",
       "      <td>2</td>\n",
       "      <td>36</td>\n",
       "      <td>71</td>\n",
       "      <td>92</td>\n",
       "      <td>57</td>\n",
       "      <td>51.6</td>\n",
       "    </tr>\n",
       "  </tbody>\n",
       "</table>\n",
       "</div>"
      ],
      "text/plain": [
       "        Week  Hydro Flask  Yeti  Camelbak  Contigo  Swell  Total\n",
       "0 2015-02-22            2    34        61      100     53   50.0\n",
       "1 2015-03-01            2    32        72       95     55   51.2\n",
       "2 2015-03-08            2    34        72       94     60   52.4\n",
       "3 2015-03-15            2    36        77       97     58   54.0\n",
       "4 2015-03-22            2    36        71       92     57   51.6"
      ]
     },
     "execution_count": 148,
     "metadata": {},
     "output_type": "execute_result"
    }
   ],
   "source": [
    "grouped_wb = water_bottle.groupby(\"Week\").mean()\n",
    "grouped_wb = grouped_wb.reset_index()\n",
    "grouped_wb['Total'] = grouped_wb.mean(axis=1)\n",
    "grouped_wb.head()"
   ]
  },
  {
   "cell_type": "code",
   "execution_count": 149,
   "metadata": {},
   "outputs": [
    {
     "data": {
      "text/plain": [
       "[<matplotlib.lines.Line2D at 0x1b96e303d0>]"
      ]
     },
     "execution_count": 149,
     "metadata": {},
     "output_type": "execute_result"
    },
    {
     "data": {
      "image/png": "[encoded data removed]",
      "text/plain": [
       "<Figure size 432x288 with 1 Axes>"
      ]
     },
     "metadata": {
      "needs_background": "light"
     },
     "output_type": "display_data"
    }
   ],
   "source": [
    "ax2 = grouped_wb.plot.line(y = \"Total\")\n",
    "x = np.array(grouped_wb.index)\n",
    "# x = [float(i) for i in grouped_bw.index.tolist()]\n",
    "wb_m, wb_b = lin_reg(x, grouped_wb[\"Total\"])\n",
    "plt.plot(x, wb_m*x+wb_b, 'b', label='US')\n"
   ]
  },
  {
   "cell_type": "markdown",
   "metadata": {},
   "source": [
    "### Bottled Water vs. Resuable Bottle"
   ]
  },
  {
   "cell_type": "code",
   "execution_count": 155,
   "metadata": {},
   "outputs": [],
   "source": [
    "ggl_bottledwater = pd.read_csv(\"./data/ggl_bottledwater.csv\")\n",
    "ggl_reusablebottle = pd.read_csv(\"./data/ggl_reusable_bottle.csv\")"
   ]
  },
  {
   "cell_type": "code",
   "execution_count": 156,
   "metadata": {},
   "outputs": [],
   "source": [
    "ggl_bottledwater = ggl_bottledwater.drop(\"Week\")\n",
    "ggl_bottledwater = ggl_bottledwater.rename(columns = {\"Category: All categories\" : \"Bottled Water\"})\n",
    "ggl_bottledwater[\"Bottled Water\"] = ggl_bottledwater[\"Bottled Water\"].astype(int)\n",
    "\n",
    "ggl_reusablebottle = ggl_reusablebottle.drop(\"Week\")\n",
    "ggl_reusablebottle = ggl_reusablebottle.rename(columns = {\"Category: All categories\" : \"Reusable Bottle\"})\n",
    "ggl_reusablebottle[\"Reusable Bottle\"] = ggl_reusablebottle[\"Reusable Bottle\"].astype(int)"
   ]
  },
  {
   "cell_type": "code",
   "execution_count": 158,
   "metadata": {},
   "outputs": [
    {
     "data": {
      "text/html": [
       "<div>\n",
       "<style scoped>\n",
       "    .dataframe tbody tr th:only-of-type {\n",
       "        vertical-align: middle;\n",
       "    }\n",
       "\n",
       "    .dataframe tbody tr th {\n",
       "        vertical-align: top;\n",
       "    }\n",
       "\n",
       "    .dataframe thead th {\n",
       "        text-align: right;\n",
       "    }\n",
       "</style>\n",
       "<table border=\"1\" class=\"dataframe\">\n",
       "  <thead>\n",
       "    <tr style=\"text-align: right;\">\n",
       "      <th></th>\n",
       "      <th>Reusable Bottle</th>\n",
       "      <th>Bottled Water</th>\n",
       "      <th>Week</th>\n",
       "    </tr>\n",
       "  </thead>\n",
       "  <tbody>\n",
       "    <tr>\n",
       "      <td>2015-02-22</td>\n",
       "      <td>24</td>\n",
       "      <td>16</td>\n",
       "      <td>2015-02-22</td>\n",
       "    </tr>\n",
       "    <tr>\n",
       "      <td>2015-03-01</td>\n",
       "      <td>23</td>\n",
       "      <td>15</td>\n",
       "      <td>2015-03-01</td>\n",
       "    </tr>\n",
       "    <tr>\n",
       "      <td>2015-03-08</td>\n",
       "      <td>37</td>\n",
       "      <td>16</td>\n",
       "      <td>2015-03-08</td>\n",
       "    </tr>\n",
       "    <tr>\n",
       "      <td>2015-03-15</td>\n",
       "      <td>36</td>\n",
       "      <td>16</td>\n",
       "      <td>2015-03-15</td>\n",
       "    </tr>\n",
       "    <tr>\n",
       "      <td>2015-03-22</td>\n",
       "      <td>34</td>\n",
       "      <td>15</td>\n",
       "      <td>2015-03-22</td>\n",
       "    </tr>\n",
       "  </tbody>\n",
       "</table>\n",
       "</div>"
      ],
      "text/plain": [
       "            Reusable Bottle  Bottled Water       Week\n",
       "2015-02-22               24             16 2015-02-22\n",
       "2015-03-01               23             15 2015-03-01\n",
       "2015-03-08               37             16 2015-03-08\n",
       "2015-03-15               36             16 2015-03-15\n",
       "2015-03-22               34             15 2015-03-22"
      ]
     },
     "execution_count": 158,
     "metadata": {},
     "output_type": "execute_result"
    }
   ],
   "source": [
    "df = pd.concat([ggl_reusablebottle, ggl_bottledwater], axis=1)\n",
    "df[\"Week\"] = pd.to_datetime(awareness_search.index)\n",
    "df.head()"
   ]
  },
  {
   "cell_type": "code",
   "execution_count": 159,
   "metadata": {},
   "outputs": [
    {
     "data": {
      "text/plain": [
       "<matplotlib.axes._subplots.AxesSubplot at 0x1b96ef68d0>"
      ]
     },
     "execution_count": 159,
     "metadata": {},
     "output_type": "execute_result"
    },
    {
     "data": {
      "image/png": "[encoded data removed]",
      "text/plain": [
       "<Figure size 432x288 with 1 Axes>"
      ]
     },
     "metadata": {
      "needs_background": "light"
     },
     "output_type": "display_data"
    }
   ],
   "source": [
    "df.plot(x = \"Week\")"
   ]
  }
 ],
 "metadata": {
  "kernelspec": {
   "display_name": "Python 3",
   "language": "python",
   "name": "python3"
  },
  "language_info": {
   "codemirror_mode": {
    "name": "ipython",
    "version": 3
   },
   "file_extension": ".py",
   "mimetype": "text/x-python",
   "name": "python",
   "nbconvert_exporter": "python",
   "pygments_lexer": "ipython3",
   "version": "3.7.4"
  }
 },
 "nbformat": 4,
 "nbformat_minor": 2
}
