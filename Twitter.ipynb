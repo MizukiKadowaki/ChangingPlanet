{
 "cells": [
  {
   "cell_type": "code",
   "execution_count": 25,
   "metadata": {},
   "outputs": [],
   "source": [
    "import tweepy\n",
    "import csv\n",
    "import pandas as pd\n",
    "import datetime\n",
    "####input your credentials here\n",
    "consumer_key = 'HmNJgn5XXB7MgKKUTkQb3PQQt'\n",
    "consumer_secret = 'yNKqnb1NWKpCFTZGffO9njRUJAVvv8yLhCsisAVqd4TJnDxAXd'\n",
    "access_token = '1234586541206294528-AAjnH7bUxNGyXxEtzZ4PljfuClgXeg'\n",
    "access_token_secret = 'tFSl1M5BEMdCJJnGo1Ci0wwF7bHQMzaMGsZGMAyU9QEFK'\n",
    "\n",
    "auth = tweepy.OAuthHandler(consumer_key, consumer_secret)\n",
    "auth.set_access_token(access_token, access_token_secret)\n",
    "api = tweepy.API(auth,wait_on_rate_limit=True)\n"
   ]
  },
  {
   "cell_type": "code",
   "execution_count": 26,
   "metadata": {},
   "outputs": [],
   "source": [
    "start_date =  datetime.datetime(2015, 1, 1)\n",
    "end_date =  datetime.datetime(2020, 1, 1)\n",
    "\n",
    "csvWriter = csv.writer(csvFile)\n",
    "writer = csv.writer(open('twitter_stats.csv', 'w'))\n",
    "\n",
    "for tweet in tweepy.Cursor(api.search,q=\"#reusable\",count=100,\n",
    "                           lang=\"en\",\n",
    "                           since=start_date,\n",
    "                           until=end_date).items():\n",
    "    print (tweet.created_at, tweet.text)\n",
    "    csvWriter.writerow([tweet.created_at, tweet.text.encode('utf-8')])\n",
    "\n",
    "csvFile.close()\n"
   ]
  }
 ],
 "metadata": {
  "kernelspec": {
   "display_name": "Python 3",
   "language": "python",
   "name": "python3"
  },
  "language_info": {
   "codemirror_mode": {
    "name": "ipython",
    "version": 3
   },
   "file_extension": ".py",
   "mimetype": "text/x-python",
   "name": "python",
   "nbconvert_exporter": "python",
   "pygments_lexer": "ipython3",
   "version": "3.7.4"
  }
 },
 "nbformat": 4,
 "nbformat_minor": 2
}
